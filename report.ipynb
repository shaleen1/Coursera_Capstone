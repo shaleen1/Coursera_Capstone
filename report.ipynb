{
 "cells": [
  {
   "cell_type": "markdown",
   "metadata": {},
   "source": [
    "## Introduction"
   ]
  },
  {
   "cell_type": "markdown",
   "metadata": {},
   "source": [
    "In the United States, millions of high school seniors are faced with the task of applying to universities, and may experience difficulty as they attempt to figure out which universities are a good match for them. Students want to know about the available facilities near the universities and the academic profile of the university in order to narrow down their choices. Using the Foursquare API and other data to cluster universities, we can help high school seniors discover universities that have similarities based on their respective surrounding venues as well as their academic attributes. Together, the clusters will allow high-schoolers to find personally suitable colleges based on both location and academic status.\n"
   ]
  },
  {
   "cell_type": "markdown",
   "metadata": {},
   "source": [
    "## Data"
   ]
  },
  {
   "cell_type": "markdown",
   "metadata": {},
   "source": [
    "An external dataset provided by IPEDS Data Center, which is in a CSV format, has information about the universities, including their name, latitude, longitude, address, city, SAT scores, ACT scores, price, acceptance rate, and student-to-faculty ratio. This data will be stored in a Python pandas dataframe so that meaningful analysis can be done on the data. First, the academic attributes (SAT/ACT scores, student-to-faculty ratio, acceptance rate) of the universities will be used to cluster them into categories. \n",
    "\n",
    "Another data source that will be used is the Foursquare API. The latitudes and longitudes of the universities will be passed to the API in order to receive insights on the surroundings of the universities, including the nearby venues. This will require the use of the explore keyword in order to get a prespecified number of venues within a prespecified radius of the universities. Since the venue information is returned as JSON, it will be necessary to filter the unnecessary information and store the necessary information in a Python pandas dataframe. The categories of the venues will be sorted based on their frequency. This information will then be used to cluster the universities based on the nearby venues. \n",
    "\n",
    "Together, these data sources will allow for two types of clusters to be formed to characterize each university: one with the academic characteristics, which come from the IPEDS Data Center dataset, and one with the characteristics of surrounding venues, which come from the Foursquare API."
   ]
  }
 ],
 "metadata": {
  "kernelspec": {
   "display_name": "Python 3",
   "language": "python",
   "name": "python3"
  },
  "language_info": {
   "codemirror_mode": {
    "name": "ipython",
    "version": 3
   },
   "file_extension": ".py",
   "mimetype": "text/x-python",
   "name": "python",
   "nbconvert_exporter": "python",
   "pygments_lexer": "ipython3",
   "version": "3.7.7"
  }
 },
 "nbformat": 4,
 "nbformat_minor": 4
}
